{
 "cells": [
  {
   "cell_type": "code",
   "execution_count": 2,
   "id": "977b56c7-52e5-4c96-8d61-6c8a1d42585a",
   "metadata": {
    "tags": []
   },
   "outputs": [],
   "source": [
    "!pip install -q tensorflow_addons"
   ]
  },
  {
   "cell_type": "code",
   "execution_count": 3,
   "id": "b6464839-2dea-48a0-ad4b-726863b49465",
   "metadata": {
    "tags": []
   },
   "outputs": [],
   "source": [
    "import warnings \n",
    "warnings.filterwarnings('ignore')\n",
    "import numpy as np\n",
    "import tensorflow as tf \n",
    "import keras \n",
    "from tensorflow.keras import layers\n",
    "import tensorflow_addons as tfa \n",
    "import matplotlib.pyplot as plt "
   ]
  },
  {
   "cell_type": "code",
   "execution_count": 4,
   "id": "6995c329-e551-4586-9f86-a4d6e7c0392c",
   "metadata": {
    "tags": []
   },
   "outputs": [
    {
     "name": "stdout",
     "output_type": "stream",
     "text": [
      "x_train shape (50000, 32, 32, 3) , y_train shape (50000, 1) \n",
      "x_test shape (10000, 32, 32, 3) , y_test shape (10000, 1) \n"
     ]
    }
   ],
   "source": [
    "(x_train , y_train) , (x_test , y_test) =  keras.datasets.cifar10.load_data()\n",
    "print(f'x_train shape {x_train.shape} , y_train shape {y_train.shape} ') # 50,000 samples \n",
    "print(f'x_test shape {x_test.shape} , y_test shape {y_test.shape} ') # 10,000 samples"
   ]
  },
  {
   "cell_type": "code",
   "execution_count": 5,
   "id": "5a04ceb2-d765-410b-a1c0-b7ddae8ff695",
   "metadata": {
    "tags": []
   },
   "outputs": [],
   "source": [
    "# Hyper-Parameters # \n",
    "# ===================== # \n",
    "num_classes = 10  \n",
    "input_shape = (32 , 32 ,3 ) # h ,w ,c\n",
    "learning_rate = 0.001 \n",
    "weight_decay = 0.0001\n",
    "batch_size = 256\n",
    "n_epochs = 40 \n",
    "n_patches = 144\n",
    "image_size = 72 # resize the input image \n",
    "patch_size = 6 # Size of the patches to be extracted from input images \n",
    "num_heads = 8 # attention heads \n",
    "projection_dim  = 64 # ideally 256 \n",
    "transformer_units = [ # represents transformer lyaer in terms of dimensions \n",
    "    projection_dim*2 ,\n",
    "    projection_dim\n",
    "] \n",
    "transformer_layers = 8 # 8 encoders and 8 decoders \n",
    "mlp_head_units = [2048 , 1024] #size of dense layers of the classifier \n",
    "\n",
    "\n",
    "# ====================== # "
   ]
  },
  {
   "cell_type": "code",
   "execution_count": 6,
   "id": "d995e74a-5e9d-4d40-b130-7cb32fc19939",
   "metadata": {
    "tags": []
   },
   "outputs": [],
   "source": [
    "data_augmentation = keras.Sequential(\n",
    "                        [\n",
    "                            layers.Normalization(), # (x - mean(x)) / var(x)  \n",
    "                            layers.Resizing(image_size , image_size)  ,\n",
    "                            layers.RandomFlip('horizontal') , \n",
    "                            layers.RandomRotation(factor=0.02) ,\n",
    "                            layers.RandomZoom(height_factor=0.2,width_factor=0.2)\n",
    "                        ],\n",
    "                        name = 'data_augmenter'\n",
    "                    )\n",
    "data_augmentation.layers[0].adapt(x_train)"
   ]
  },
  {
   "cell_type": "code",
   "execution_count": 7,
   "id": "78b308c7-89ad-41b8-a87c-e89614771909",
   "metadata": {
    "tags": []
   },
   "outputs": [],
   "source": [
    "def mlp(x , hidden_units , dropout_rate) :\n",
    "    for unit in hidden_units : \n",
    "        x = layers.Dense(units = unit , activation = tf.nn.gelu)(x) \n",
    "        # GeLU - Gaussian Error Linear Unit || GeLU does well in nlp but is computationally costly \n",
    "        x = layers.Dropout(dropout_rate)(x)\n",
    "    return x "
   ]
  },
  {
   "cell_type": "code",
   "execution_count": 8,
   "id": "09fa9162-d23d-483a-a9d2-f55c612ff99a",
   "metadata": {
    "tags": []
   },
   "outputs": [],
   "source": [
    "class CreatePatches(layers.Layer):\n",
    "    def __init__(self , patch_size ) :\n",
    "        super(CreatePatches , self ).__init__()\n",
    "        self.patch_size = patch_size \n",
    "        \n",
    "    def call(self , inputs):\n",
    "        batch_size = tf.shape(inputs)[0]\n",
    "        patches = tf.image.extract_patches(\n",
    "            images = inputs , # input images \n",
    "            sizes = [1 , self.patch_size , self.patch_size ,1 ] ,\n",
    "            strides =  [1 , self.patch_size , self.patch_size ,1 ] ,\n",
    "            rates = [1,1,1,1] , # 1 means no dilation \n",
    "            padding = 'VALID' # if the shapes is short pad the patches \n",
    "        )\n",
    "        patch_dims = patches.shape[-1] \n",
    "        patches = tf.reshape(patches , [batch_size , -1 , patch_dims] ) \n",
    "        return patches \n",
    "        "
   ]
  },
  {
   "cell_type": "code",
   "execution_count": 9,
   "id": "4402b2a4-d4a4-46b1-82c0-1e552851a135",
   "metadata": {
    "tags": []
   },
   "outputs": [
    {
     "name": "stdout",
     "output_type": "stream",
     "text": [
      "Image Size 72 x 72\n",
      "Patch Size 6 x 6\n",
      "No. of Patches per Image 144\n",
      "Elements in 1 Patch 108\n"
     ]
    },
    {
     "data": {
      "image/png": "[encoded data removed]",
      "text/plain": [
       "<Figure size 400x400 with 1 Axes>"
      ]
     },
     "metadata": {},
     "output_type": "display_data"
    },
    {
     "data": {
      "image/png": "[encoded data removed]",
      "text/plain": [
       "<Figure size 400x400 with 144 Axes>"
      ]
     },
     "metadata": {},
     "output_type": "display_data"
    }
   ],
   "source": [
    "# Visualizing the patches \n",
    "plt.figure(figsize = (4,4)) \n",
    "image = x_train[np.random.choice(range(x_train.shape[0]))]\n",
    "plt.imshow(image.astype('uint8'))\n",
    "plt.axis('off') \n",
    "\n",
    "resized_image = tf.image.resize(\n",
    "            tf.convert_to_tensor([image]) , size=(image_size , image_size) \n",
    ")\n",
    "patches = CreatePatches(patch_size = patch_size )(resized_image) \n",
    "print(f'Image Size {image_size} x {image_size}')\n",
    "print(f'Patch Size {patch_size} x {patch_size}')\n",
    "print(f'No. of Patches per Image {patches.shape[1]}')\n",
    "print(f'Elements in 1 Patch {patches.shape[-1]}')\n",
    "\n",
    "n = int(np.sqrt(patches.shape[1]))\n",
    "plt.figure(figsize=(4,4)) \n",
    "for i , patch in enumerate(patches[0]) : \n",
    "    ax = plt.subplot(n , n ,  i+1)\n",
    "    patch_img = tf.reshape(patch , (patch_size , patch_size ,3 ))\n",
    "    plt.imshow(patch_img.numpy().astype('uint8'))\n",
    "    plt.axis('off') "
   ]
  },
  {
   "cell_type": "code",
   "execution_count": 10,
   "id": "272c9c37-fcf8-4301-a270-2746c0400ce6",
   "metadata": {},
   "outputs": [],
   "source": [
    "class PatchEncoder(layers.Layer) : \n",
    "    def __init__(self , n_patches , projection_dim ) : \n",
    "        super(PatchEncoder , self ).__init__()\n",
    "        self.n_patches = n_patches \n",
    "        self.projection_dim = projection_dim \n",
    "        self.projection = layers.Dense(units = self.projection_dim) \n",
    "        self.embedding = layers.Embedding(input_dim = self.n_patches , \n",
    "                                         output_dim = self.projection_dim)\n",
    "    \n",
    "    def call(self , patch ):\n",
    "        position = tf.range(0 , self.n_patches , delta = 1 ) \n",
    "        encoded  =  self.projection(patch) + self.embedding(position) \n",
    "        return encoded "
   ]
  },
  {
   "cell_type": "code",
   "execution_count": 11,
   "id": "8a4c22b7-211a-4731-a74e-12a26fab9455",
   "metadata": {
    "tags": []
   },
   "outputs": [],
   "source": [
    "def create_ViT_Classifier():\n",
    "    inputs = layers.Input(shape = input_shape )\n",
    "    augmented_data = data_augmentation(inputs) # augmentation \n",
    "    patches = CreatePatches(patch_size)(augmented_data)\n",
    "    encoded = PatchEncoder(n_patches  , projection_dim )(patches) \n",
    "    \n",
    "    # create multiples layers of transformer block \n",
    "    for _ in range(transformer_layers) : \n",
    "        # layer normalization \n",
    "        x1 = layers.LayerNormalization(epsilon=1e-6)(encoded)\n",
    "        attention_output = layers.MultiHeadAttention( # self attention \n",
    "                    num_heads = num_heads , \n",
    "                    key_dim = projection_dim , \n",
    "                    dropout = 0.1 \n",
    "        )(x1,x1)\n",
    "        # Skip Connection 1\n",
    "        x2 = layers.Add()([attention_output , encoded])\n",
    "        x3 = layers.LayerNormalization(epsilon=1e-6) (x2) \n",
    "        # MLP \n",
    "        x3 = mlp(x3 , transformer_units , 0.1  )\n",
    "        enocoded = layers.Add()([x3 , x2] )\n",
    "        \n",
    "    representation = layers.LayerNormalization(epsilon=1e-6)(encoded)\n",
    "    representation = layers.Flatten()(representation) \n",
    "    representation = layers.Dropout(0.5)(representation) \n",
    "    features = mlp(representation , mlp_head_units , 0.5 ) \n",
    "    # Classify \n",
    "    logits = layers.Dense(num_classes )(features)\n",
    "    \n",
    "    model = keras.Model(inputs=inputs , outputs= logits) \n",
    "    return model "
   ]
  },
  {
   "cell_type": "code",
   "execution_count": 12,
   "id": "f18af1c0-d5c2-43a8-8f91-d7a3e035a55b",
   "metadata": {
    "tags": []
   },
   "outputs": [
    {
     "name": "stdout",
     "output_type": "stream",
     "text": [
      "Model: \"model\"\n",
      "_________________________________________________________________\n",
      " Layer (type)                Output Shape              Param #   \n",
      "=================================================================\n",
      " input_1 (InputLayer)        [(None, 32, 32, 3)]       0         \n",
      "                                                                 \n",
      " data_augmenter (Sequential)  (None, 72, 72, 3)        7         \n",
      "                                                                 \n",
      " create_patches_1 (CreatePat  (None, None, 108)        0         \n",
      " ches)                                                           \n",
      "                                                                 \n",
      " patch_encoder (PatchEncoder  (None, 144, 64)          16192     \n",
      " )                                                               \n",
      "                                                                 \n",
      " layer_normalization_16 (Lay  (None, 144, 64)          128       \n",
      " erNormalization)                                                \n",
      "                                                                 \n",
      " flatten (Flatten)           (None, 9216)              0         \n",
      "                                                                 \n",
      " dropout_16 (Dropout)        (None, 9216)              0         \n",
      "                                                                 \n",
      " dense_17 (Dense)            (None, 2048)              18876416  \n",
      "                                                                 \n",
      " dropout_17 (Dropout)        (None, 2048)              0         \n",
      "                                                                 \n",
      " dense_18 (Dense)            (None, 1024)              2098176   \n",
      "                                                                 \n",
      " dropout_18 (Dropout)        (None, 1024)              0         \n",
      "                                                                 \n",
      " dense_19 (Dense)            (None, 10)                10250     \n",
      "                                                                 \n",
      "=================================================================\n",
      "Total params: 21,001,169\n",
      "Trainable params: 21,001,162\n",
      "Non-trainable params: 7\n",
      "_________________________________________________________________\n"
     ]
    }
   ],
   "source": [
    "ViT = create_ViT_Classifier()\n",
    "ViT.summary()"
   ]
  },
  {
   "cell_type": "code",
   "execution_count": 21,
   "id": "e48f4481-e14d-41d4-9c73-ea97f736a80d",
   "metadata": {},
   "outputs": [],
   "source": [
    "def run_experiment(model):\n",
    "    optimizer = tfa.optimizers.AdamW(learning_rate=learning_rate , \n",
    "                                    weight_decay = weight_decay)\n",
    "    checkpoint_filepath = './temp/checkpoint'\n",
    "    checkpoint_callback = keras.callbacks.ModelCheckpoint(checkpoint_filepath ,\n",
    "                                                           monitor = 'val_accuracy' , \n",
    "                                                           save_best_only = True , \n",
    "                                                           save_weights_only=True )\n",
    "    model.compile(optimizer ,\n",
    "                  loss = keras.losses.SparseCategoricalCrossentropy(from_logits=True),\n",
    "                  metrics = [keras.metrics.SparseCategoricalAccuracy(name=\"Accuracy\") ,\n",
    "                            keras.metrics.SparseTopKCategoricalAccuracy(5 , name=\"Top5Accuracy\")] )\n",
    "    history = model.fit(x = x_train , y = y_train ,\n",
    "                       batch_size = batch_size , \n",
    "                       epochs = n_epochs , \n",
    "                       validation_split=0.1 ,\n",
    "                       callbacks = [checkpoint_callback],)\n",
    "    model.load_weights(checkpoint_filepath)\n",
    "    _ , accuracy , top5accuracy = model.evaluate(x_test ,y_test)\n",
    "    print(f'Test Accuracy  : {round(accuracy * 100 , 2)} %' ) \n",
    "    print(f'Top 5 Test Accuracy  : {round(top5accuracy * 100 , 2)} %')\n",
    "    \n",
    "    return history , model \n"
   ]
  },
  {
   "cell_type": "code",
   "execution_count": 22,
   "id": "e126e6cb-4dbf-4916-8f8a-a0f9e43857d1",
   "metadata": {
    "tags": []
   },
   "outputs": [
    {
     "name": "stdout",
     "output_type": "stream",
     "text": [
      "Epoch 1/40\n",
      "176/176 [==============================] - ETA: 0s - loss: 2.2221 - Accuracy: 0.2898 - Top5Accuracy: 0.7856WARNING:tensorflow:Can save best model only with val_accuracy available, skipping.\n",
      "176/176 [==============================] - 108s 601ms/step - loss: 2.2221 - Accuracy: 0.2898 - Top5Accuracy: 0.7856 - val_loss: 1.6488 - val_Accuracy: 0.4132 - val_Top5Accuracy: 0.8842\n",
      "Epoch 2/40\n",
      "176/176 [==============================] - ETA: 0s - loss: 1.7676 - Accuracy: 0.3684 - Top5Accuracy: 0.8565WARNING:tensorflow:Can save best model only with val_accuracy available, skipping.\n",
      "176/176 [==============================] - 106s 601ms/step - loss: 1.7676 - Accuracy: 0.3684 - Top5Accuracy: 0.8565 - val_loss: 1.5479 - val_Accuracy: 0.4562 - val_Top5Accuracy: 0.9052\n",
      "Epoch 3/40\n",
      "176/176 [==============================] - ETA: 0s - loss: 1.6727 - Accuracy: 0.4035 - Top5Accuracy: 0.8772WARNING:tensorflow:Can save best model only with val_accuracy available, skipping.\n",
      "176/176 [==============================] - 106s 603ms/step - loss: 1.6727 - Accuracy: 0.4035 - Top5Accuracy: 0.8772 - val_loss: 1.4756 - val_Accuracy: 0.4732 - val_Top5Accuracy: 0.9174\n",
      "Epoch 4/40\n",
      "176/176 [==============================] - ETA: 0s - loss: 1.6164 - Accuracy: 0.4202 - Top5Accuracy: 0.8871WARNING:tensorflow:Can save best model only with val_accuracy available, skipping.\n",
      "176/176 [==============================] - 105s 600ms/step - loss: 1.6164 - Accuracy: 0.4202 - Top5Accuracy: 0.8871 - val_loss: 1.4146 - val_Accuracy: 0.4954 - val_Top5Accuracy: 0.9244\n",
      "Epoch 5/40\n",
      "176/176 [==============================] - ETA: 0s - loss: 1.5748 - Accuracy: 0.4340 - Top5Accuracy: 0.8978WARNING:tensorflow:Can save best model only with val_accuracy available, skipping.\n",
      "176/176 [==============================] - 102s 582ms/step - loss: 1.5748 - Accuracy: 0.4340 - Top5Accuracy: 0.8978 - val_loss: 1.3967 - val_Accuracy: 0.4940 - val_Top5Accuracy: 0.9252\n",
      "Epoch 6/40\n",
      "176/176 [==============================] - ETA: 0s - loss: 1.5473 - Accuracy: 0.4452 - Top5Accuracy: 0.9026WARNING:tensorflow:Can save best model only with val_accuracy available, skipping.\n",
      "176/176 [==============================] - 105s 596ms/step - loss: 1.5473 - Accuracy: 0.4452 - Top5Accuracy: 0.9026 - val_loss: 1.3636 - val_Accuracy: 0.5134 - val_Top5Accuracy: 0.9312\n",
      "Epoch 7/40\n",
      "176/176 [==============================] - ETA: 0s - loss: 1.5109 - Accuracy: 0.4578 - Top5Accuracy: 0.9069WARNING:tensorflow:Can save best model only with val_accuracy available, skipping.\n",
      "176/176 [==============================] - 104s 588ms/step - loss: 1.5109 - Accuracy: 0.4578 - Top5Accuracy: 0.9069 - val_loss: 1.3243 - val_Accuracy: 0.5304 - val_Top5Accuracy: 0.9376\n",
      "Epoch 8/40\n",
      "176/176 [==============================] - ETA: 0s - loss: 1.4848 - Accuracy: 0.4645 - Top5Accuracy: 0.9135WARNING:tensorflow:Can save best model only with val_accuracy available, skipping.\n",
      "176/176 [==============================] - 105s 597ms/step - loss: 1.4848 - Accuracy: 0.4645 - Top5Accuracy: 0.9135 - val_loss: 1.3167 - val_Accuracy: 0.5322 - val_Top5Accuracy: 0.9406\n",
      "Epoch 9/40\n",
      "176/176 [==============================] - ETA: 0s - loss: 1.4668 - Accuracy: 0.4788 - Top5Accuracy: 0.9167WARNING:tensorflow:Can save best model only with val_accuracy available, skipping.\n",
      "176/176 [==============================] - 106s 602ms/step - loss: 1.4668 - Accuracy: 0.4788 - Top5Accuracy: 0.9167 - val_loss: 1.2820 - val_Accuracy: 0.5370 - val_Top5Accuracy: 0.9462\n",
      "Epoch 10/40\n",
      "176/176 [==============================] - ETA: 0s - loss: 1.4404 - Accuracy: 0.4851 - Top5Accuracy: 0.9190WARNING:tensorflow:Can save best model only with val_accuracy available, skipping.\n",
      "176/176 [==============================] - 107s 605ms/step - loss: 1.4404 - Accuracy: 0.4851 - Top5Accuracy: 0.9190 - val_loss: 1.2702 - val_Accuracy: 0.5540 - val_Top5Accuracy: 0.9484\n",
      "Epoch 11/40\n",
      "176/176 [==============================] - ETA: 0s - loss: 1.4152 - Accuracy: 0.4951 - Top5Accuracy: 0.9220WARNING:tensorflow:Can save best model only with val_accuracy available, skipping.\n",
      "176/176 [==============================] - 105s 599ms/step - loss: 1.4152 - Accuracy: 0.4951 - Top5Accuracy: 0.9220 - val_loss: 1.2653 - val_Accuracy: 0.5506 - val_Top5Accuracy: 0.9508\n",
      "Epoch 12/40\n",
      "176/176 [==============================] - ETA: 0s - loss: 1.3989 - Accuracy: 0.5019 - Top5Accuracy: 0.9251WARNING:tensorflow:Can save best model only with val_accuracy available, skipping.\n",
      "176/176 [==============================] - 105s 597ms/step - loss: 1.3989 - Accuracy: 0.5019 - Top5Accuracy: 0.9251 - val_loss: 1.2272 - val_Accuracy: 0.5688 - val_Top5Accuracy: 0.9528\n",
      "Epoch 13/40\n",
      "176/176 [==============================] - ETA: 0s - loss: 1.3772 - Accuracy: 0.5096 - Top5Accuracy: 0.9279WARNING:tensorflow:Can save best model only with val_accuracy available, skipping.\n",
      "176/176 [==============================] - 104s 592ms/step - loss: 1.3772 - Accuracy: 0.5096 - Top5Accuracy: 0.9279 - val_loss: 1.2312 - val_Accuracy: 0.5592 - val_Top5Accuracy: 0.9484\n",
      "Epoch 14/40\n",
      "176/176 [==============================] - ETA: 0s - loss: 1.3544 - Accuracy: 0.5145 - Top5Accuracy: 0.9324WARNING:tensorflow:Can save best model only with val_accuracy available, skipping.\n",
      "176/176 [==============================] - 103s 586ms/step - loss: 1.3544 - Accuracy: 0.5145 - Top5Accuracy: 0.9324 - val_loss: 1.2016 - val_Accuracy: 0.5760 - val_Top5Accuracy: 0.9518\n",
      "Epoch 15/40\n",
      "176/176 [==============================] - ETA: 0s - loss: 1.3395 - Accuracy: 0.5253 - Top5Accuracy: 0.9339WARNING:tensorflow:Can save best model only with val_accuracy available, skipping.\n",
      "176/176 [==============================] - 103s 584ms/step - loss: 1.3395 - Accuracy: 0.5253 - Top5Accuracy: 0.9339 - val_loss: 1.1909 - val_Accuracy: 0.5776 - val_Top5Accuracy: 0.9522\n",
      "Epoch 16/40\n",
      "176/176 [==============================] - ETA: 0s - loss: 1.3181 - Accuracy: 0.5311 - Top5Accuracy: 0.9358WARNING:tensorflow:Can save best model only with val_accuracy available, skipping.\n",
      "176/176 [==============================] - 105s 594ms/step - loss: 1.3181 - Accuracy: 0.5311 - Top5Accuracy: 0.9358 - val_loss: 1.1622 - val_Accuracy: 0.5932 - val_Top5Accuracy: 0.9548\n",
      "Epoch 17/40\n",
      "176/176 [==============================] - ETA: 0s - loss: 1.2973 - Accuracy: 0.5389 - Top5Accuracy: 0.9381WARNING:tensorflow:Can save best model only with val_accuracy available, skipping.\n",
      "176/176 [==============================] - 103s 588ms/step - loss: 1.2973 - Accuracy: 0.5389 - Top5Accuracy: 0.9381 - val_loss: 1.1803 - val_Accuracy: 0.5808 - val_Top5Accuracy: 0.9558\n",
      "Epoch 18/40\n",
      "176/176 [==============================] - ETA: 0s - loss: 1.2822 - Accuracy: 0.5458 - Top5Accuracy: 0.9391WARNING:tensorflow:Can save best model only with val_accuracy available, skipping.\n",
      "176/176 [==============================] - 103s 586ms/step - loss: 1.2822 - Accuracy: 0.5458 - Top5Accuracy: 0.9391 - val_loss: 1.1440 - val_Accuracy: 0.5940 - val_Top5Accuracy: 0.9570\n",
      "Epoch 19/40\n",
      "176/176 [==============================] - ETA: 0s - loss: 1.2577 - Accuracy: 0.5518 - Top5Accuracy: 0.9425WARNING:tensorflow:Can save best model only with val_accuracy available, skipping.\n",
      "176/176 [==============================] - 103s 586ms/step - loss: 1.2577 - Accuracy: 0.5518 - Top5Accuracy: 0.9425 - val_loss: 1.1287 - val_Accuracy: 0.6016 - val_Top5Accuracy: 0.9576\n",
      "Epoch 20/40\n",
      "176/176 [==============================] - ETA: 0s - loss: 1.2461 - Accuracy: 0.5574 - Top5Accuracy: 0.9451WARNING:tensorflow:Can save best model only with val_accuracy available, skipping.\n",
      "176/176 [==============================] - 103s 587ms/step - loss: 1.2461 - Accuracy: 0.5574 - Top5Accuracy: 0.9451 - val_loss: 1.1104 - val_Accuracy: 0.6106 - val_Top5Accuracy: 0.9592\n",
      "Epoch 21/40\n",
      "176/176 [==============================] - ETA: 0s - loss: 1.2163 - Accuracy: 0.5684 - Top5Accuracy: 0.9475WARNING:tensorflow:Can save best model only with val_accuracy available, skipping.\n",
      "176/176 [==============================] - 104s 589ms/step - loss: 1.2163 - Accuracy: 0.5684 - Top5Accuracy: 0.9475 - val_loss: 1.0957 - val_Accuracy: 0.6070 - val_Top5Accuracy: 0.9578\n",
      "Epoch 22/40\n",
      "176/176 [==============================] - ETA: 0s - loss: 1.1956 - Accuracy: 0.5763 - Top5Accuracy: 0.9482WARNING:tensorflow:Can save best model only with val_accuracy available, skipping.\n",
      "176/176 [==============================] - 102s 581ms/step - loss: 1.1956 - Accuracy: 0.5763 - Top5Accuracy: 0.9482 - val_loss: 1.0887 - val_Accuracy: 0.6144 - val_Top5Accuracy: 0.9580\n",
      "Epoch 23/40\n",
      "176/176 [==============================] - ETA: 0s - loss: 1.1837 - Accuracy: 0.5768 - Top5Accuracy: 0.9511WARNING:tensorflow:Can save best model only with val_accuracy available, skipping.\n",
      "176/176 [==============================] - 105s 595ms/step - loss: 1.1837 - Accuracy: 0.5768 - Top5Accuracy: 0.9511 - val_loss: 1.0702 - val_Accuracy: 0.6308 - val_Top5Accuracy: 0.9602\n",
      "Epoch 24/40\n",
      "176/176 [==============================] - ETA: 0s - loss: 1.1672 - Accuracy: 0.5851 - Top5Accuracy: 0.9524WARNING:tensorflow:Can save best model only with val_accuracy available, skipping.\n",
      "176/176 [==============================] - 103s 588ms/step - loss: 1.1672 - Accuracy: 0.5851 - Top5Accuracy: 0.9524 - val_loss: 1.0627 - val_Accuracy: 0.6224 - val_Top5Accuracy: 0.9614\n",
      "Epoch 25/40\n",
      "176/176 [==============================] - ETA: 0s - loss: 1.1516 - Accuracy: 0.5902 - Top5Accuracy: 0.9538WARNING:tensorflow:Can save best model only with val_accuracy available, skipping.\n",
      "176/176 [==============================] - 102s 580ms/step - loss: 1.1516 - Accuracy: 0.5902 - Top5Accuracy: 0.9538 - val_loss: 1.0428 - val_Accuracy: 0.6336 - val_Top5Accuracy: 0.9602\n",
      "Epoch 26/40\n",
      "176/176 [==============================] - ETA: 0s - loss: 1.1267 - Accuracy: 0.5998 - Top5Accuracy: 0.9564WARNING:tensorflow:Can save best model only with val_accuracy available, skipping.\n",
      "176/176 [==============================] - 104s 592ms/step - loss: 1.1267 - Accuracy: 0.5998 - Top5Accuracy: 0.9564 - val_loss: 1.0284 - val_Accuracy: 0.6430 - val_Top5Accuracy: 0.9604\n",
      "Epoch 27/40\n",
      "176/176 [==============================] - ETA: 0s - loss: 1.1119 - Accuracy: 0.6026 - Top5Accuracy: 0.9576WARNING:tensorflow:Can save best model only with val_accuracy available, skipping.\n",
      "176/176 [==============================] - 103s 585ms/step - loss: 1.1119 - Accuracy: 0.6026 - Top5Accuracy: 0.9576 - val_loss: 1.0294 - val_Accuracy: 0.6360 - val_Top5Accuracy: 0.9624\n",
      "Epoch 28/40\n",
      "176/176 [==============================] - ETA: 0s - loss: 1.0999 - Accuracy: 0.6111 - Top5Accuracy: 0.9589WARNING:tensorflow:Can save best model only with val_accuracy available, skipping.\n",
      "176/176 [==============================] - 105s 594ms/step - loss: 1.0999 - Accuracy: 0.6111 - Top5Accuracy: 0.9589 - val_loss: 1.0097 - val_Accuracy: 0.6400 - val_Top5Accuracy: 0.9650\n",
      "Epoch 29/40\n",
      "176/176 [==============================] - ETA: 0s - loss: 1.0890 - Accuracy: 0.6146 - Top5Accuracy: 0.9599WARNING:tensorflow:Can save best model only with val_accuracy available, skipping.\n",
      "176/176 [==============================] - 104s 590ms/step - loss: 1.0890 - Accuracy: 0.6146 - Top5Accuracy: 0.9599 - val_loss: 1.0169 - val_Accuracy: 0.6432 - val_Top5Accuracy: 0.9648\n",
      "Epoch 30/40\n",
      "176/176 [==============================] - ETA: 0s - loss: 1.0782 - Accuracy: 0.6158 - Top5Accuracy: 0.9624WARNING:tensorflow:Can save best model only with val_accuracy available, skipping.\n",
      "176/176 [==============================] - 102s 577ms/step - loss: 1.0782 - Accuracy: 0.6158 - Top5Accuracy: 0.9624 - val_loss: 1.0157 - val_Accuracy: 0.6440 - val_Top5Accuracy: 0.9652\n",
      "Epoch 31/40\n",
      "176/176 [==============================] - ETA: 0s - loss: 1.0663 - Accuracy: 0.6229 - Top5Accuracy: 0.9624WARNING:tensorflow:Can save best model only with val_accuracy available, skipping.\n",
      "176/176 [==============================] - 104s 591ms/step - loss: 1.0663 - Accuracy: 0.6229 - Top5Accuracy: 0.9624 - val_loss: 0.9898 - val_Accuracy: 0.6470 - val_Top5Accuracy: 0.9668\n",
      "Epoch 32/40\n",
      "176/176 [==============================] - ETA: 0s - loss: 1.0602 - Accuracy: 0.6263 - Top5Accuracy: 0.9621WARNING:tensorflow:Can save best model only with val_accuracy available, skipping.\n",
      "176/176 [==============================] - 102s 578ms/step - loss: 1.0602 - Accuracy: 0.6263 - Top5Accuracy: 0.9621 - val_loss: 0.9920 - val_Accuracy: 0.6436 - val_Top5Accuracy: 0.9642\n",
      "Epoch 33/40\n",
      "176/176 [==============================] - ETA: 0s - loss: 1.0470 - Accuracy: 0.6270 - Top5Accuracy: 0.9645WARNING:tensorflow:Can save best model only with val_accuracy available, skipping.\n",
      "176/176 [==============================] - 102s 581ms/step - loss: 1.0470 - Accuracy: 0.6270 - Top5Accuracy: 0.9645 - val_loss: 0.9944 - val_Accuracy: 0.6472 - val_Top5Accuracy: 0.9646\n",
      "Epoch 34/40\n",
      "176/176 [==============================] - ETA: 0s - loss: 1.0396 - Accuracy: 0.6334 - Top5Accuracy: 0.9650WARNING:tensorflow:Can save best model only with val_accuracy available, skipping.\n",
      "176/176 [==============================] - 103s 583ms/step - loss: 1.0396 - Accuracy: 0.6334 - Top5Accuracy: 0.9650 - val_loss: 0.9741 - val_Accuracy: 0.6592 - val_Top5Accuracy: 0.9632\n",
      "Epoch 35/40\n",
      "176/176 [==============================] - ETA: 0s - loss: 1.0205 - Accuracy: 0.6349 - Top5Accuracy: 0.9666WARNING:tensorflow:Can save best model only with val_accuracy available, skipping.\n",
      "176/176 [==============================] - 104s 592ms/step - loss: 1.0205 - Accuracy: 0.6349 - Top5Accuracy: 0.9666 - val_loss: 0.9865 - val_Accuracy: 0.6566 - val_Top5Accuracy: 0.9640\n",
      "Epoch 36/40\n",
      "176/176 [==============================] - ETA: 0s - loss: 1.0158 - Accuracy: 0.6383 - Top5Accuracy: 0.9669WARNING:tensorflow:Can save best model only with val_accuracy available, skipping.\n",
      "176/176 [==============================] - 104s 590ms/step - loss: 1.0158 - Accuracy: 0.6383 - Top5Accuracy: 0.9669 - val_loss: 0.9719 - val_Accuracy: 0.6598 - val_Top5Accuracy: 0.9686\n",
      "Epoch 37/40\n",
      "176/176 [==============================] - ETA: 0s - loss: 1.0098 - Accuracy: 0.6413 - Top5Accuracy: 0.9666WARNING:tensorflow:Can save best model only with val_accuracy available, skipping.\n",
      "176/176 [==============================] - 103s 584ms/step - loss: 1.0098 - Accuracy: 0.6413 - Top5Accuracy: 0.9666 - val_loss: 0.9605 - val_Accuracy: 0.6608 - val_Top5Accuracy: 0.9690\n",
      "Epoch 38/40\n",
      "176/176 [==============================] - ETA: 0s - loss: 0.9961 - Accuracy: 0.6455 - Top5Accuracy: 0.9689WARNING:tensorflow:Can save best model only with val_accuracy available, skipping.\n",
      "176/176 [==============================] - 103s 583ms/step - loss: 0.9961 - Accuracy: 0.6455 - Top5Accuracy: 0.9689 - val_loss: 0.9524 - val_Accuracy: 0.6692 - val_Top5Accuracy: 0.9662\n",
      "Epoch 39/40\n",
      "176/176 [==============================] - ETA: 0s - loss: 0.9921 - Accuracy: 0.6467 - Top5Accuracy: 0.9689WARNING:tensorflow:Can save best model only with val_accuracy available, skipping.\n",
      "176/176 [==============================] - 104s 590ms/step - loss: 0.9921 - Accuracy: 0.6467 - Top5Accuracy: 0.9689 - val_loss: 0.9621 - val_Accuracy: 0.6668 - val_Top5Accuracy: 0.9656\n",
      "Epoch 40/40\n",
      "176/176 [==============================] - ETA: 0s - loss: 0.9853 - Accuracy: 0.6537 - Top5Accuracy: 0.9683WARNING:tensorflow:Can save best model only with val_accuracy available, skipping.\n",
      "176/176 [==============================] - 101s 576ms/step - loss: 0.9853 - Accuracy: 0.6537 - Top5Accuracy: 0.9683 - val_loss: 0.9790 - val_Accuracy: 0.6602 - val_Top5Accuracy: 0.9658\n"
     ]
    },
    {
     "ename": "NotFoundError",
     "evalue": "Unsuccessful TensorSliceReader constructor: Failed to find any matching files for ./temp/checkpoint",
     "output_type": "error",
     "traceback": [
      "\u001b[0;31m---------------------------------------------------------------------------\u001b[0m",
      "\u001b[0;31mNotFoundError\u001b[0m                             Traceback (most recent call last)",
      "Cell \u001b[0;32mIn[22], line 1\u001b[0m\n\u001b[0;32m----> 1\u001b[0m history , ViT \u001b[38;5;241m=\u001b[39m \u001b[43mrun_experiment\u001b[49m\u001b[43m(\u001b[49m\u001b[43mViT\u001b[49m\u001b[43m)\u001b[49m\n",
      "Cell \u001b[0;32mIn[21], line 18\u001b[0m, in \u001b[0;36mrun_experiment\u001b[0;34m(model)\u001b[0m\n\u001b[1;32m      9\u001b[0m model\u001b[38;5;241m.\u001b[39mcompile(optimizer ,\n\u001b[1;32m     10\u001b[0m               loss \u001b[38;5;241m=\u001b[39m keras\u001b[38;5;241m.\u001b[39mlosses\u001b[38;5;241m.\u001b[39mSparseCategoricalCrossentropy(from_logits\u001b[38;5;241m=\u001b[39m\u001b[38;5;28;01mTrue\u001b[39;00m),\n\u001b[1;32m     11\u001b[0m               metrics \u001b[38;5;241m=\u001b[39m [keras\u001b[38;5;241m.\u001b[39mmetrics\u001b[38;5;241m.\u001b[39mSparseCategoricalAccuracy(name\u001b[38;5;241m=\u001b[39m\u001b[38;5;124m\"\u001b[39m\u001b[38;5;124mAccuracy\u001b[39m\u001b[38;5;124m\"\u001b[39m) ,\n\u001b[1;32m     12\u001b[0m                         keras\u001b[38;5;241m.\u001b[39mmetrics\u001b[38;5;241m.\u001b[39mSparseTopKCategoricalAccuracy(\u001b[38;5;241m5\u001b[39m , name\u001b[38;5;241m=\u001b[39m\u001b[38;5;124m\"\u001b[39m\u001b[38;5;124mTop5Accuracy\u001b[39m\u001b[38;5;124m\"\u001b[39m)] )\n\u001b[1;32m     13\u001b[0m history \u001b[38;5;241m=\u001b[39m model\u001b[38;5;241m.\u001b[39mfit(x \u001b[38;5;241m=\u001b[39m x_train , y \u001b[38;5;241m=\u001b[39m y_train ,\n\u001b[1;32m     14\u001b[0m                    batch_size \u001b[38;5;241m=\u001b[39m batch_size , \n\u001b[1;32m     15\u001b[0m                    epochs \u001b[38;5;241m=\u001b[39m n_epochs , \n\u001b[1;32m     16\u001b[0m                    validation_split\u001b[38;5;241m=\u001b[39m\u001b[38;5;241m0.1\u001b[39m ,\n\u001b[1;32m     17\u001b[0m                    callbacks \u001b[38;5;241m=\u001b[39m [checkpoint_callback],)\n\u001b[0;32m---> 18\u001b[0m \u001b[43mmodel\u001b[49m\u001b[38;5;241;43m.\u001b[39;49m\u001b[43mload_weights\u001b[49m\u001b[43m(\u001b[49m\u001b[43mcheckpoint_filepath\u001b[49m\u001b[43m)\u001b[49m\n\u001b[1;32m     19\u001b[0m _ , accuracy , top5accuracy \u001b[38;5;241m=\u001b[39m model\u001b[38;5;241m.\u001b[39mevaluate(x_test ,y_test)\n\u001b[1;32m     20\u001b[0m \u001b[38;5;28mprint\u001b[39m(\u001b[38;5;124mf\u001b[39m\u001b[38;5;124m'\u001b[39m\u001b[38;5;124mTest Accuracy  : \u001b[39m\u001b[38;5;132;01m{\u001b[39;00m\u001b[38;5;28mround\u001b[39m(accuracy\u001b[38;5;250m \u001b[39m\u001b[38;5;241m*\u001b[39m\u001b[38;5;250m \u001b[39m\u001b[38;5;241m100\u001b[39m\u001b[38;5;250m \u001b[39m,\u001b[38;5;250m \u001b[39m\u001b[38;5;241m2\u001b[39m)\u001b[38;5;132;01m}\u001b[39;00m\u001b[38;5;124m %\u001b[39m\u001b[38;5;124m'\u001b[39m ) \n",
      "File \u001b[0;32m/opt/conda/envs/sagemaker-distribution/lib/python3.8/site-packages/keras/utils/traceback_utils.py:70\u001b[0m, in \u001b[0;36mfilter_traceback.<locals>.error_handler\u001b[0;34m(*args, **kwargs)\u001b[0m\n\u001b[1;32m     67\u001b[0m     filtered_tb \u001b[38;5;241m=\u001b[39m _process_traceback_frames(e\u001b[38;5;241m.\u001b[39m__traceback__)\n\u001b[1;32m     68\u001b[0m     \u001b[38;5;66;03m# To get the full stack trace, call:\u001b[39;00m\n\u001b[1;32m     69\u001b[0m     \u001b[38;5;66;03m# `tf.debugging.disable_traceback_filtering()`\u001b[39;00m\n\u001b[0;32m---> 70\u001b[0m     \u001b[38;5;28;01mraise\u001b[39;00m e\u001b[38;5;241m.\u001b[39mwith_traceback(filtered_tb) \u001b[38;5;28;01mfrom\u001b[39;00m \u001b[38;5;28;01mNone\u001b[39;00m\n\u001b[1;32m     71\u001b[0m \u001b[38;5;28;01mfinally\u001b[39;00m:\n\u001b[1;32m     72\u001b[0m     \u001b[38;5;28;01mdel\u001b[39;00m filtered_tb\n",
      "File \u001b[0;32m/opt/conda/envs/sagemaker-distribution/lib/python3.8/site-packages/tensorflow/python/training/py_checkpoint_reader.py:31\u001b[0m, in \u001b[0;36merror_translator\u001b[0;34m(e)\u001b[0m\n\u001b[1;32m     27\u001b[0m error_message \u001b[38;5;241m=\u001b[39m \u001b[38;5;28mstr\u001b[39m(e)\n\u001b[1;32m     28\u001b[0m \u001b[38;5;28;01mif\u001b[39;00m \u001b[38;5;124m'\u001b[39m\u001b[38;5;124mnot found in checkpoint\u001b[39m\u001b[38;5;124m'\u001b[39m \u001b[38;5;129;01min\u001b[39;00m error_message \u001b[38;5;129;01mor\u001b[39;00m (\n\u001b[1;32m     29\u001b[0m     \u001b[38;5;124m'\u001b[39m\u001b[38;5;124mFailed to find any \u001b[39m\u001b[38;5;124m'\u001b[39m\n\u001b[1;32m     30\u001b[0m     \u001b[38;5;124m'\u001b[39m\u001b[38;5;124mmatching files for\u001b[39m\u001b[38;5;124m'\u001b[39m) \u001b[38;5;129;01min\u001b[39;00m error_message:\n\u001b[0;32m---> 31\u001b[0m   \u001b[38;5;28;01mraise\u001b[39;00m errors_impl\u001b[38;5;241m.\u001b[39mNotFoundError(\u001b[38;5;28;01mNone\u001b[39;00m, \u001b[38;5;28;01mNone\u001b[39;00m, error_message)\n\u001b[1;32m     32\u001b[0m \u001b[38;5;28;01melif\u001b[39;00m \u001b[38;5;124m'\u001b[39m\u001b[38;5;124mSliced checkpoints are not supported\u001b[39m\u001b[38;5;124m'\u001b[39m \u001b[38;5;129;01min\u001b[39;00m error_message \u001b[38;5;129;01mor\u001b[39;00m (\n\u001b[1;32m     33\u001b[0m     \u001b[38;5;124m'\u001b[39m\u001b[38;5;124mData type \u001b[39m\u001b[38;5;124m'\u001b[39m\n\u001b[1;32m     34\u001b[0m     \u001b[38;5;124m'\u001b[39m\u001b[38;5;124mnot \u001b[39m\u001b[38;5;124m'\u001b[39m\n\u001b[1;32m     35\u001b[0m     \u001b[38;5;124m'\u001b[39m\u001b[38;5;124msupported\u001b[39m\u001b[38;5;124m'\u001b[39m) \u001b[38;5;129;01min\u001b[39;00m error_message:\n\u001b[1;32m     36\u001b[0m   \u001b[38;5;28;01mraise\u001b[39;00m errors_impl\u001b[38;5;241m.\u001b[39mUnimplementedError(\u001b[38;5;28;01mNone\u001b[39;00m, \u001b[38;5;28;01mNone\u001b[39;00m, error_message)\n",
      "\u001b[0;31mNotFoundError\u001b[0m: Unsuccessful TensorSliceReader constructor: Failed to find any matching files for ./temp/checkpoint"
     ]
    }
   ],
   "source": [
    "history , ViT = run_experiment(ViT)"
   ]
  },
  {
   "cell_type": "code",
   "execution_count": null,
   "id": "1faa2fcd-e7ba-4f23-ae12-6f4e25d2d573",
   "metadata": {},
   "outputs": [],
   "source": [
    "\n",
    "def plot_metrics(history):\n",
    "    # Plotting accuracy and top-5 accuracy\n",
    "    plt.figure(figsize=(12, 6))\n",
    "\n",
    "    # Plotting Accuracy\n",
    "    plt.subplot(1, 2, 1)\n",
    "    plt.plot(history.history['accuracy'], label='Train Accuracy')\n",
    "    plt.plot(history.history['val_accuracy'], label='Validation Accuracy')\n",
    "    plt.title('Training and Validation Accuracy')\n",
    "    plt.xlabel('Epochs')\n",
    "    plt.ylabel('Accuracy')\n",
    "    plt.legend()\n",
    "\n",
    "    # Plotting Top-5 Accuracy\n",
    "    plt.subplot(1, 2, 2)\n",
    "    plt.plot(history.history['top_k_categorical_accuracy'], label='Train Top-5 Accuracy')\n",
    "    plt.plot(history.history['val_top_k_categorical_accuracy'], label='Validation Top-5 Accuracy')\n",
    "    plt.title('Training and Validation Top-5 Accuracy')\n",
    "    plt.xlabel('Epochs')\n",
    "    plt.ylabel('Top-5 Accuracy')\n",
    "    plt.legend()\n",
    "\n",
    "    plt.tight_layout()\n",
    "    plt.show()\n",
    "\n",
    "    # Plotting loss\n",
    "    plt.figure(figsize=(12, 6))\n",
    "\n",
    "    # Plotting Loss\n",
    "    plt.subplot(1, 2, 1)\n",
    "    plt.plot(history.history['loss'], label='Train Loss')\n",
    "    plt.plot(history.history['val_loss'], label='Validation Loss')\n",
    "    plt.title('Training and Validation Loss')\n",
    "    plt.xlabel('Epochs')\n",
    "    plt.ylabel('Loss')\n",
    "    plt.legend()\n",
    "\n",
    "    plt.tight_layout()\n",
    "    plt.show()\n",
    "\n",
    "# Assuming `history` is the history object from model training\n",
    "# Replace `history` with your actual history object\n",
    "plot_metrics(history)\n"
   ]
  }
 ],
 "metadata": {
  "kernelspec": {
   "display_name": "sagemaker-distribution:Python",
   "language": "python",
   "name": "conda-env-sagemaker-distribution-py"
  },
  "language_info": {
   "codemirror_mode": {
    "name": "ipython",
    "version": 3
   },
   "file_extension": ".py",
   "mimetype": "text/x-python",
   "name": "python",
   "nbconvert_exporter": "python",
   "pygments_lexer": "ipython3",
   "version": "3.8.17"
  }
 },
 "nbformat": 4,
 "nbformat_minor": 5
}
